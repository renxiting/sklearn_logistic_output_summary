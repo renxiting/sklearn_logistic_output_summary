{
 "cells": [
  {
   "cell_type": "code",
   "execution_count": 1,
   "metadata": {
    "scrolled": false
   },
   "outputs": [
    {
     "name": "stdout",
     "output_type": "stream",
     "text": [
      "Optimization terminated successfully.\n",
      "         Current function value: 0.250825\n",
      "         Iterations 9\n",
      "                           Logit Regression Results                           \n",
      "==============================================================================\n",
      "Dep. Variable:                      y   No. Observations:                  506\n",
      "Model:                          Logit   Df Residuals:                      492\n",
      "Method:                           MLE   Df Model:                           13\n",
      "Date:                Tue, 15 Dec 2020   Pseudo R-squ.:                  0.6321\n",
      "Time:                        14:49:13   Log-Likelihood:                -126.92\n",
      "converged:                       True   LL-Null:                       -345.00\n",
      "Covariance Type:            nonrobust   LLR p-value:                 5.022e-85\n",
      "==============================================================================\n",
      "                 coef    std err          z      P>|z|      [0.025      0.975]\n",
      "------------------------------------------------------------------------------\n",
      "const         15.6632      3.838      4.081      0.000       8.141      23.186\n",
      "x1            -0.0803      0.067     -1.190      0.234      -0.212       0.052\n",
      "x2             0.0293      0.016      1.802      0.072      -0.003       0.061\n",
      "x3             0.1266      0.046      2.752      0.006       0.036       0.217\n",
      "x4             1.7204      0.722      2.383      0.017       0.305       3.135\n",
      "x5           -10.9039      2.988     -3.649      0.000     -16.760      -5.047\n",
      "x6             0.9575      0.385      2.485      0.013       0.202       1.713\n",
      "x7            -0.0357      0.011     -3.207      0.001      -0.058      -0.014\n",
      "x8            -0.7627      0.178     -4.291      0.000      -1.111      -0.414\n",
      "x9             0.2252      0.056      3.986      0.000       0.114       0.336\n",
      "x10           -0.0096      0.003     -3.288      0.001      -0.015      -0.004\n",
      "x11           -0.3632      0.099     -3.657      0.000      -0.558      -0.169\n",
      "x12            0.0056      0.003      2.025      0.043       0.000       0.011\n",
      "x13           -0.3646      0.055     -6.679      0.000      -0.472      -0.258\n",
      "==============================================================================\n"
     ]
    }
   ],
   "source": [
    "import numpy as np\n",
    "import pandas as pd\n",
    "import statsmodels.api as sm\n",
    "from scipy import stats\n",
    "from sklearn.datasets import load_boston\n",
    "from sklearn.linear_model import LogisticRegression\n",
    "X, y = load_boston(return_X_y=True)\n",
    "y_one=[1 if i >20 else 0 for i in y]\n",
    "y_one=pd.Series(y_one)\n",
    "X2 = sm.add_constant(X)\n",
    "lr = sm.Logit(y_one, X2).fit()\n",
    "print(lr.summary())"
   ]
  },
  {
   "cell_type": "code",
   "execution_count": 2,
   "metadata": {},
   "outputs": [],
   "source": [
    "clf = LogisticRegression(penalty='none',solver='newton-cg').fit(X, y_one)"
   ]
  },
  {
   "cell_type": "code",
   "execution_count": 3,
   "metadata": {},
   "outputs": [],
   "source": [
    "import logistic_model_result_table as mp\n",
    "ml = mp.logistic_output_table(clf,X)"
   ]
  },
  {
   "cell_type": "code",
   "execution_count": 4,
   "metadata": {
    "scrolled": false
   },
   "outputs": [
    {
     "data": {
      "text/html": [
       "<table class=\"simpletable\">\n",
       "<caption>Summarize the Loistic Regression Results</caption>\n",
       "<tr>\n",
       "    <td></td>       <th>coef</th>     <th>std err</th>      <th>z</th>       <th>P>|z|</th>    <th>[0.025</th>    <th>0.975]</th>  \n",
       "</tr>\n",
       "<tr>\n",
       "  <th>const</th> <td>   15.6630</td> <td>    3.838</td> <td>    4.081</td> <td> 4.49e-05</td> <td>    8.141</td> <td>   23.185</td>\n",
       "</tr>\n",
       "<tr>\n",
       "  <th>x_1</th>   <td>   -0.0803</td> <td>    0.067</td> <td>   -1.190</td> <td>    0.234</td> <td>   -0.212</td> <td>    0.052</td>\n",
       "</tr>\n",
       "<tr>\n",
       "  <th>x_2</th>   <td>    0.0293</td> <td>    0.016</td> <td>    1.802</td> <td>    0.072</td> <td>   -0.003</td> <td>    0.061</td>\n",
       "</tr>\n",
       "<tr>\n",
       "  <th>x_3</th>   <td>    0.1266</td> <td>    0.046</td> <td>    2.752</td> <td>    0.006</td> <td>    0.036</td> <td>    0.217</td>\n",
       "</tr>\n",
       "<tr>\n",
       "  <th>x_4</th>   <td>    1.7204</td> <td>    0.722</td> <td>    2.383</td> <td>    0.017</td> <td>    0.306</td> <td>    3.135</td>\n",
       "</tr>\n",
       "<tr>\n",
       "  <th>x_5</th>   <td>  -10.9041</td> <td>    2.988</td> <td>   -3.649</td> <td>    0.000</td> <td>  -16.761</td> <td>   -5.048</td>\n",
       "</tr>\n",
       "<tr>\n",
       "  <th>x_6</th>   <td>    0.9576</td> <td>    0.385</td> <td>    2.485</td> <td>    0.013</td> <td>    0.202</td> <td>    1.713</td>\n",
       "</tr>\n",
       "<tr>\n",
       "  <th>x_7</th>   <td>   -0.0357</td> <td>    0.011</td> <td>   -3.207</td> <td>    0.001</td> <td>   -0.058</td> <td>   -0.014</td>\n",
       "</tr>\n",
       "<tr>\n",
       "  <th>x_8</th>   <td>   -0.7627</td> <td>    0.178</td> <td>   -4.291</td> <td> 1.78e-05</td> <td>   -1.111</td> <td>   -0.414</td>\n",
       "</tr>\n",
       "<tr>\n",
       "  <th>x_9</th>   <td>    0.2252</td> <td>    0.056</td> <td>    3.986</td> <td> 6.71e-05</td> <td>    0.114</td> <td>    0.336</td>\n",
       "</tr>\n",
       "<tr>\n",
       "  <th>x_10</th>  <td>   -0.0096</td> <td>    0.003</td> <td>   -3.288</td> <td>    0.001</td> <td>   -0.015</td> <td>   -0.004</td>\n",
       "</tr>\n",
       "<tr>\n",
       "  <th>x_11</th>  <td>   -0.3632</td> <td>    0.099</td> <td>   -3.657</td> <td>    0.000</td> <td>   -0.558</td> <td>   -0.169</td>\n",
       "</tr>\n",
       "<tr>\n",
       "  <th>x_12</th>  <td>    0.0056</td> <td>    0.003</td> <td>    2.025</td> <td>    0.043</td> <td>    0.000</td> <td>    0.011</td>\n",
       "</tr>\n",
       "<tr>\n",
       "  <th>x_13</th>  <td>   -0.3646</td> <td>    0.055</td> <td>   -6.679</td> <td> 2.41e-11</td> <td>   -0.472</td> <td>   -0.258</td>\n",
       "</tr>\n",
       "</table>"
      ],
      "text/plain": [
       "<class 'statsmodels.iolib.table.SimpleTable'>"
      ]
     },
     "execution_count": 4,
     "metadata": {},
     "output_type": "execute_result"
    }
   ],
   "source": [
    "ml.summary()"
   ]
  },
  {
   "cell_type": "code",
   "execution_count": 7,
   "metadata": {},
   "outputs": [],
   "source": [
    "sample_weight=[1.5 if i == 1 else 1 for i in y_one]\n",
    "sample_weight=np.array(sample_weight)\n",
    "clf_weight = LogisticRegression(random_state=0,penalty='none',solver='newton-cg').fit(X, y_one,sample_weight=sample_weight)"
   ]
  },
  {
   "cell_type": "code",
   "execution_count": 8,
   "metadata": {},
   "outputs": [
    {
     "data": {
      "text/html": [
       "<table class=\"simpletable\">\n",
       "<caption>Summarize the Loistic Regression Results</caption>\n",
       "<tr>\n",
       "    <td></td>       <th>coef</th>     <th>std err</th>      <th>z</th>       <th>P>|z|</th>    <th>[0.025</th>    <th>0.975]</th>  \n",
       "</tr>\n",
       "<tr>\n",
       "  <th>const</th> <td>   17.5752</td> <td>    3.880</td> <td>    4.529</td> <td> 5.92e-06</td> <td>    9.970</td> <td>   25.181</td>\n",
       "</tr>\n",
       "<tr>\n",
       "  <th>x_1</th>   <td>   -0.0788</td> <td>    0.061</td> <td>   -1.297</td> <td>    0.195</td> <td>   -0.198</td> <td>    0.040</td>\n",
       "</tr>\n",
       "<tr>\n",
       "  <th>x_2</th>   <td>    0.0304</td> <td>    0.017</td> <td>    1.779</td> <td>    0.075</td> <td>   -0.003</td> <td>    0.064</td>\n",
       "</tr>\n",
       "<tr>\n",
       "  <th>x_3</th>   <td>    0.1261</td> <td>    0.048</td> <td>    2.652</td> <td>    0.008</td> <td>    0.033</td> <td>    0.219</td>\n",
       "</tr>\n",
       "<tr>\n",
       "  <th>x_4</th>   <td>    1.6171</td> <td>    0.727</td> <td>    2.224</td> <td>    0.026</td> <td>    0.192</td> <td>    3.042</td>\n",
       "</tr>\n",
       "<tr>\n",
       "  <th>x_5</th>   <td>  -11.2328</td> <td>    2.980</td> <td>   -3.770</td> <td>    0.000</td> <td>  -17.073</td> <td>   -5.392</td>\n",
       "</tr>\n",
       "<tr>\n",
       "  <th>x_6</th>   <td>    0.8012</td> <td>    0.381</td> <td>    2.103</td> <td>    0.035</td> <td>    0.054</td> <td>    1.548</td>\n",
       "</tr>\n",
       "<tr>\n",
       "  <th>x_7</th>   <td>   -0.0375</td> <td>    0.011</td> <td>   -3.305</td> <td>    0.001</td> <td>   -0.060</td> <td>   -0.015</td>\n",
       "</tr>\n",
       "<tr>\n",
       "  <th>x_8</th>   <td>   -0.7855</td> <td>    0.181</td> <td>   -4.334</td> <td> 1.46e-05</td> <td>   -1.141</td> <td>   -0.430</td>\n",
       "</tr>\n",
       "<tr>\n",
       "  <th>x_9</th>   <td>    0.2203</td> <td>    0.055</td> <td>    3.998</td> <td> 6.38e-05</td> <td>    0.112</td> <td>    0.328</td>\n",
       "</tr>\n",
       "<tr>\n",
       "  <th>x_10</th>  <td>   -0.0093</td> <td>    0.003</td> <td>   -3.146</td> <td>    0.002</td> <td>   -0.015</td> <td>   -0.004</td>\n",
       "</tr>\n",
       "<tr>\n",
       "  <th>x_11</th>  <td>   -0.3763</td> <td>    0.103</td> <td>   -3.660</td> <td>    0.000</td> <td>   -0.578</td> <td>   -0.175</td>\n",
       "</tr>\n",
       "<tr>\n",
       "  <th>x_12</th>  <td>    0.0054</td> <td>    0.002</td> <td>    2.180</td> <td>    0.029</td> <td>    0.001</td> <td>    0.010</td>\n",
       "</tr>\n",
       "<tr>\n",
       "  <th>x_13</th>  <td>   -0.3574</td> <td>    0.053</td> <td>   -6.762</td> <td> 1.36e-11</td> <td>   -0.461</td> <td>   -0.254</td>\n",
       "</tr>\n",
       "</table>"
      ],
      "text/plain": [
       "<class 'statsmodels.iolib.table.SimpleTable'>"
      ]
     },
     "execution_count": 8,
     "metadata": {},
     "output_type": "execute_result"
    }
   ],
   "source": [
    "clf_weight_sample = mp.logistic_output_table(clf_weight,X)\n",
    "clf_weight_sample.summary()"
   ]
  },
  {
   "cell_type": "code",
   "execution_count": null,
   "metadata": {},
   "outputs": [],
   "source": []
  }
 ],
 "metadata": {
  "kernelspec": {
   "display_name": "Python 3",
   "language": "python",
   "name": "python3"
  },
  "language_info": {
   "codemirror_mode": {
    "name": "ipython",
    "version": 3
   },
   "file_extension": ".py",
   "mimetype": "text/x-python",
   "name": "python",
   "nbconvert_exporter": "python",
   "pygments_lexer": "ipython3",
   "version": "3.6.10"
  }
 },
 "nbformat": 4,
 "nbformat_minor": 4
}
